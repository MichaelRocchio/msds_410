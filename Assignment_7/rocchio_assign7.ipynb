{
 "cells": [
  {
   "cell_type": "markdown",
   "metadata": {},
   "source": [
    "# Task 1"
   ]
  },
  {
   "cell_type": "code",
   "execution_count": 2,
   "metadata": {},
   "outputs": [
    {
     "data": {
      "text/html": [
       "<div>\n",
       "<style scoped>\n",
       "    .dataframe tbody tr th:only-of-type {\n",
       "        vertical-align: middle;\n",
       "    }\n",
       "\n",
       "    .dataframe tbody tr th {\n",
       "        vertical-align: top;\n",
       "    }\n",
       "\n",
       "    .dataframe thead th {\n",
       "        text-align: right;\n",
       "    }\n",
       "</style>\n",
       "<table border=\"1\" class=\"dataframe\">\n",
       "  <thead>\n",
       "    <tr style=\"text-align: right;\">\n",
       "      <th></th>\n",
       "      <th>ID</th>\n",
       "      <th>STA</th>\n",
       "      <th>AGE</th>\n",
       "      <th>SEX</th>\n",
       "      <th>RACE</th>\n",
       "      <th>SER</th>\n",
       "      <th>CAN</th>\n",
       "      <th>CRN</th>\n",
       "      <th>INF</th>\n",
       "      <th>CPR</th>\n",
       "      <th>...</th>\n",
       "      <th>HRA</th>\n",
       "      <th>PRE</th>\n",
       "      <th>TYP</th>\n",
       "      <th>FRA</th>\n",
       "      <th>PO2</th>\n",
       "      <th>PH</th>\n",
       "      <th>PCO</th>\n",
       "      <th>BIC</th>\n",
       "      <th>CRE</th>\n",
       "      <th>LOC</th>\n",
       "    </tr>\n",
       "  </thead>\n",
       "  <tbody>\n",
       "    <tr>\n",
       "      <th>0</th>\n",
       "      <td>4</td>\n",
       "      <td>1</td>\n",
       "      <td>87</td>\n",
       "      <td>1</td>\n",
       "      <td>1</td>\n",
       "      <td>1</td>\n",
       "      <td>0</td>\n",
       "      <td>0</td>\n",
       "      <td>1</td>\n",
       "      <td>0</td>\n",
       "      <td>...</td>\n",
       "      <td>96</td>\n",
       "      <td>0</td>\n",
       "      <td>1</td>\n",
       "      <td>1</td>\n",
       "      <td>1</td>\n",
       "      <td>1</td>\n",
       "      <td>1</td>\n",
       "      <td>0</td>\n",
       "      <td>0</td>\n",
       "      <td>0</td>\n",
       "    </tr>\n",
       "    <tr>\n",
       "      <th>1</th>\n",
       "      <td>8</td>\n",
       "      <td>0</td>\n",
       "      <td>27</td>\n",
       "      <td>1</td>\n",
       "      <td>1</td>\n",
       "      <td>0</td>\n",
       "      <td>0</td>\n",
       "      <td>0</td>\n",
       "      <td>1</td>\n",
       "      <td>0</td>\n",
       "      <td>...</td>\n",
       "      <td>88</td>\n",
       "      <td>0</td>\n",
       "      <td>1</td>\n",
       "      <td>0</td>\n",
       "      <td>0</td>\n",
       "      <td>0</td>\n",
       "      <td>0</td>\n",
       "      <td>0</td>\n",
       "      <td>0</td>\n",
       "      <td>0</td>\n",
       "    </tr>\n",
       "    <tr>\n",
       "      <th>2</th>\n",
       "      <td>12</td>\n",
       "      <td>0</td>\n",
       "      <td>59</td>\n",
       "      <td>0</td>\n",
       "      <td>1</td>\n",
       "      <td>0</td>\n",
       "      <td>0</td>\n",
       "      <td>0</td>\n",
       "      <td>0</td>\n",
       "      <td>0</td>\n",
       "      <td>...</td>\n",
       "      <td>80</td>\n",
       "      <td>1</td>\n",
       "      <td>1</td>\n",
       "      <td>0</td>\n",
       "      <td>0</td>\n",
       "      <td>0</td>\n",
       "      <td>0</td>\n",
       "      <td>0</td>\n",
       "      <td>0</td>\n",
       "      <td>0</td>\n",
       "    </tr>\n",
       "    <tr>\n",
       "      <th>3</th>\n",
       "      <td>14</td>\n",
       "      <td>0</td>\n",
       "      <td>77</td>\n",
       "      <td>0</td>\n",
       "      <td>1</td>\n",
       "      <td>1</td>\n",
       "      <td>0</td>\n",
       "      <td>0</td>\n",
       "      <td>0</td>\n",
       "      <td>0</td>\n",
       "      <td>...</td>\n",
       "      <td>70</td>\n",
       "      <td>0</td>\n",
       "      <td>0</td>\n",
       "      <td>0</td>\n",
       "      <td>0</td>\n",
       "      <td>0</td>\n",
       "      <td>0</td>\n",
       "      <td>0</td>\n",
       "      <td>0</td>\n",
       "      <td>0</td>\n",
       "    </tr>\n",
       "    <tr>\n",
       "      <th>4</th>\n",
       "      <td>27</td>\n",
       "      <td>1</td>\n",
       "      <td>76</td>\n",
       "      <td>1</td>\n",
       "      <td>1</td>\n",
       "      <td>1</td>\n",
       "      <td>0</td>\n",
       "      <td>0</td>\n",
       "      <td>1</td>\n",
       "      <td>0</td>\n",
       "      <td>...</td>\n",
       "      <td>90</td>\n",
       "      <td>1</td>\n",
       "      <td>1</td>\n",
       "      <td>0</td>\n",
       "      <td>0</td>\n",
       "      <td>0</td>\n",
       "      <td>0</td>\n",
       "      <td>0</td>\n",
       "      <td>0</td>\n",
       "      <td>0</td>\n",
       "    </tr>\n",
       "  </tbody>\n",
       "</table>\n",
       "<p>5 rows × 21 columns</p>\n",
       "</div>"
      ],
      "text/plain": [
       "   ID  STA  AGE  SEX  RACE  SER  CAN  CRN  INF  CPR  ...  HRA  PRE  TYP  FRA  \\\n",
       "0   4    1   87    1     1    1    0    0    1    0  ...   96    0    1    1   \n",
       "1   8    0   27    1     1    0    0    0    1    0  ...   88    0    1    0   \n",
       "2  12    0   59    0     1    0    0    0    0    0  ...   80    1    1    0   \n",
       "3  14    0   77    0     1    1    0    0    0    0  ...   70    0    0    0   \n",
       "4  27    1   76    1     1    1    0    0    1    0  ...   90    1    1    0   \n",
       "\n",
       "   PO2  PH  PCO  BIC  CRE  LOC  \n",
       "0    1   1    1    0    0    0  \n",
       "1    0   0    0    0    0    0  \n",
       "2    0   0    0    0    0    0  \n",
       "3    0   0    0    0    0    0  \n",
       "4    0   0    0    0    0    0  \n",
       "\n",
       "[5 rows x 21 columns]"
      ]
     },
     "execution_count": 2,
     "metadata": {},
     "output_type": "execute_result"
    }
   ],
   "source": [
    "import pandas as pd\n",
    "\n",
    "# Loading the ICU dataset from the provided Excel file\n",
    "icu_df = pd.read_excel('icu.xlsx')\n",
    "\n",
    "# Displaying the first few rows of the dataset\n",
    "icu_df.head()"
   ]
  },
  {
   "cell_type": "code",
   "execution_count": 3,
   "metadata": {},
   "outputs": [
    {
     "data": {
      "text/plain": [
       "(              ID         STA         AGE         SEX        RACE         SER  \\\n",
       " count  200.00000  200.000000  200.000000  200.000000  200.000000  200.000000   \n",
       " mean   444.82000    0.200000   57.545000    0.380000    1.175000    0.535000   \n",
       " std    271.91668    0.401004   20.054648    0.486604    0.495584    0.500025   \n",
       " min      4.00000    0.000000   16.000000    0.000000    1.000000    0.000000   \n",
       " 25%    210.25000    0.000000   46.750000    0.000000    1.000000    0.000000   \n",
       " 50%    412.50000    0.000000   63.000000    0.000000    1.000000    1.000000   \n",
       " 75%    671.75000    0.000000   72.000000    1.000000    1.000000    1.000000   \n",
       " max    929.00000    1.000000   92.000000    1.000000    3.000000    1.000000   \n",
       " \n",
       "               CAN         CRN         INF         CPR  ...        HRA  \\\n",
       " count  200.000000  200.000000  200.000000  200.000000  ...  200.00000   \n",
       " mean     0.100000    0.095000    0.420000    0.065000  ...   98.92500   \n",
       " std      0.300753    0.293951    0.494797    0.247144  ...   26.82962   \n",
       " min      0.000000    0.000000    0.000000    0.000000  ...   39.00000   \n",
       " 25%      0.000000    0.000000    0.000000    0.000000  ...   80.00000   \n",
       " 50%      0.000000    0.000000    0.000000    0.000000  ...   96.00000   \n",
       " 75%      0.000000    0.000000    1.000000    0.000000  ...  118.25000   \n",
       " max      1.000000    1.000000    1.000000    1.000000  ...  192.00000   \n",
       " \n",
       "               PRE         TYP         FRA         PO2          PH         PCO  \\\n",
       " count  200.000000  200.000000  200.000000  200.000000  200.000000  200.000000   \n",
       " mean     0.150000    0.735000    0.075000    0.080000    0.065000    0.100000   \n",
       " std      0.357967    0.442441    0.264052    0.271974    0.247144    0.300753   \n",
       " min      0.000000    0.000000    0.000000    0.000000    0.000000    0.000000   \n",
       " 25%      0.000000    0.000000    0.000000    0.000000    0.000000    0.000000   \n",
       " 50%      0.000000    1.000000    0.000000    0.000000    0.000000    0.000000   \n",
       " 75%      0.000000    1.000000    0.000000    0.000000    0.000000    0.000000   \n",
       " max      1.000000    1.000000    1.000000    1.000000    1.000000    1.000000   \n",
       " \n",
       "               BIC         CRE         LOC  \n",
       " count  200.000000  200.000000  200.000000  \n",
       " mean     0.075000    0.050000    0.125000  \n",
       " std      0.264052    0.218492    0.458723  \n",
       " min      0.000000    0.000000    0.000000  \n",
       " 25%      0.000000    0.000000    0.000000  \n",
       " 50%      0.000000    0.000000    0.000000  \n",
       " 75%      0.000000    0.000000    0.000000  \n",
       " max      1.000000    1.000000    2.000000  \n",
       " \n",
       " [8 rows x 21 columns],\n",
       " ID      0\n",
       " STA     0\n",
       " AGE     0\n",
       " SEX     0\n",
       " RACE    0\n",
       " SER     0\n",
       " CAN     0\n",
       " CRN     0\n",
       " INF     0\n",
       " CPR     0\n",
       " SYS     0\n",
       " HRA     0\n",
       " PRE     0\n",
       " TYP     0\n",
       " FRA     0\n",
       " PO2     0\n",
       " PH      0\n",
       " PCO     0\n",
       " BIC     0\n",
       " CRE     0\n",
       " LOC     0\n",
       " dtype: int64)"
      ]
     },
     "execution_count": 3,
     "metadata": {},
     "output_type": "execute_result"
    }
   ],
   "source": [
    "data_summary = icu_df.describe()\n",
    "\n",
    "# Checking for missing values\n",
    "missing_values = icu_df.isnull().sum()\n",
    "\n",
    "data_summary, missing_values"
   ]
  },
  {
   "cell_type": "markdown",
   "metadata": {},
   "source": [
    "Data Summary:\n",
    "We have a dataset with 200 entries.\n",
    "The average age of patients in the dataset is approximately 57.5 years.\n",
    "The vital status (STA) indicates that 20% of the patients died, while 80% lived.\n",
    "The dataset has a roughly balanced gender distribution with 38% females and 62% males.\n",
    "Most of the patients are of the \"White\" race (mean value close to 1).\n",
    "More than half of the admissions are surgical (mean of SER is 0.53).\n",
    "Variables like CAN, CRN, INF, CPR etc., are binary coded and their mean values give an indication of the proportion of '1's in the dataset.\n",
    "\n",
    "Missing Values:\n",
    "There are no missing values in any of the columns."
   ]
  },
  {
   "cell_type": "code",
   "execution_count": 4,
   "metadata": {},
   "outputs": [
    {
     "data": {
      "image/png": "[encoded data removed]",
      "text/plain": [
       "<Figure size 1400x600 with 1 Axes>"
      ]
     },
     "metadata": {},
     "output_type": "display_data"
    }
   ],
   "source": [
    "import matplotlib.pyplot as plt\n",
    "import seaborn as sns\n",
    "\n",
    "# Setting the aesthetics for the plots\n",
    "sns.set_style(\"whitegrid\")\n",
    "\n",
    "# Initializing the figure\n",
    "plt.figure(figsize=(14, 6))\n",
    "\n",
    "# Plotting the distribution of the response variable (STA)\n",
    "sns.countplot(x='STA', data=icu_df)\n",
    "plt.title('Distribution of Vital Status (STA)')\n",
    "plt.xlabel('Vital Status (0 = Lived, 1 = Died)')\n",
    "plt.ylabel('Count')\n",
    "plt.show()"
   ]
  },
  {
   "cell_type": "markdown",
   "metadata": {},
   "source": [
    "The plot illustrates the distribution of the STA variable:\n",
    "\n",
    "A majority of the patients (80%) in the dataset lived (STA = 0).\n",
    "20% of the patients died (STA = 1).\n",
    "\n",
    "Given this imbalance in the distribution, it's essential to take it into consideration when building predictive models, as it might influence the model's performance.\n",
    "\n"
   ]
  },
  {
   "cell_type": "code",
   "execution_count": 5,
   "metadata": {},
   "outputs": [
    {
     "data": {
      "image/png": "[encoded data removed]",
      "text/plain": [
       "<Figure size 1400x600 with 1 Axes>"
      ]
     },
     "metadata": {},
     "output_type": "display_data"
    }
   ],
   "source": [
    "# Initializing the figure\n",
    "plt.figure(figsize=(14, 6))\n",
    "\n",
    "# Plotting the age distribution by STA\n",
    "sns.boxplot(x='STA', y='AGE', data=icu_df)\n",
    "plt.title('Age Distribution by Vital Status (STA)')\n",
    "plt.xlabel('Vital Status (0 = Lived, 1 = Died)')\n",
    "plt.ylabel('Age')\n",
    "plt.show()\n"
   ]
  },
  {
   "cell_type": "markdown",
   "metadata": {},
   "source": [
    "From the boxplot of age distribution by STA:\n",
    "\n",
    "Patients who lived (STA = 0) tend to have a broader age range, with many younger individuals.\n",
    "Patients who died (STA = 1) generally seem to be older, as evidenced by the higher median age and the interquartile range."
   ]
  },
  {
   "cell_type": "code",
   "execution_count": 6,
   "metadata": {},
   "outputs": [
    {
     "data": {
      "image/png": "[encoded data removed]",
      "text/plain": [
       "<Figure size 2000x600 with 3 Axes>"
      ]
     },
     "metadata": {},
     "output_type": "display_data"
    }
   ],
   "source": [
    "# Initializing the figure\n",
    "fig, ax = plt.subplots(1, 3, figsize=(20, 6))\n",
    "\n",
    "# Plotting the distribution of Gender by STA\n",
    "sns.countplot(x='SEX', hue='STA', data=icu_df, ax=ax[0])\n",
    "ax[0].set_title('Gender Distribution by Vital Status (STA)')\n",
    "ax[0].set_xlabel('Gender (0 = Male, 1 = Female)')\n",
    "ax[0].set_ylabel('Count')\n",
    "ax[0].legend(title='STA')\n",
    "\n",
    "# Plotting the distribution of Race by STA\n",
    "sns.countplot(x='RACE', hue='STA', data=icu_df, ax=ax[1])\n",
    "ax[1].set_title('Race Distribution by Vital Status (STA)')\n",
    "ax[1].set_xlabel('Race (1 = White, 2 = Black, 3 = Other)')\n",
    "ax[1].set_ylabel('Count')\n",
    "ax[1].legend(title='STA')\n",
    "\n",
    "# Plotting the distribution of Service at ICU Admission by STA\n",
    "sns.countplot(x='SER', hue='STA', data=icu_df, ax=ax[2])\n",
    "ax[2].set_title('Service at ICU Admission Distribution by STA')\n",
    "ax[2].set_xlabel('Service (0 = Medical, 1 = Surgical)')\n",
    "ax[2].set_ylabel('Count')\n",
    "ax[2].legend(title='STA')\n",
    "\n",
    "# Displaying the plots\n",
    "plt.tight_layout()\n",
    "plt.show()\n"
   ]
  },
  {
   "cell_type": "markdown",
   "metadata": {},
   "source": [
    "Gender Distribution by STA:\n",
    "Both genders have a higher number of survivors (STA = 0) than non-survivors (STA = 1). However, the proportion of non-survivors seems slightly higher for females compared to males.\n",
    "Race Distribution by STA:\n",
    "The majority of the patients are of the \"White\" race (Race = 1). The number of survivors is considerably higher for this group.\n",
    "The \"Black\" and \"Other\" race categories have relatively fewer data points, but they still show a higher number of survivors than non-survivors.\n",
    "Service at ICU Admission by STA:\n",
    "For both medical and surgical admissions, the number of survivors is higher than non-survivors. However, the proportion of non-survivors is slightly higher for surgical admissions compared to medical ones.\n"
   ]
  },
  {
   "cell_type": "code",
   "execution_count": 7,
   "metadata": {},
   "outputs": [
    {
     "data": {
      "text/plain": [
       "STA     1.000000e+00\n",
       "LOC     4.370867e-01\n",
       "TYP     2.435801e-01\n",
       "CPR     2.231003e-01\n",
       "AGE     1.894579e-01\n",
       "INF     1.823492e-01\n",
       "CRN     1.790495e-01\n",
       "CRE     1.720618e-01\n",
       "BIC     9.491580e-02\n",
       "PO2     8.293610e-02\n",
       "PH      7.098647e-02\n",
       "PRE     3.500700e-02\n",
       "HRA     3.176090e-02\n",
       "SEX     2.060214e-02\n",
       "PCO     1.301043e-17\n",
       "CAN     1.156482e-17\n",
       "FRA     7.903328e-18\n",
       "RACE   -5.057217e-02\n",
       "ID     -9.008759e-02\n",
       "SER    -1.854549e-01\n",
       "SYS    -2.046723e-01\n",
       "Name: STA, dtype: float64"
      ]
     },
     "execution_count": 7,
     "metadata": {},
     "output_type": "execute_result"
    }
   ],
   "source": [
    "# Calculating the correlation of each feature with the response variable STA\n",
    "correlation_with_sta = icu_df.corr()['STA'].sort_values(ascending=False)\n",
    "\n",
    "correlation_with_sta"
   ]
  },
  {
   "cell_type": "markdown",
   "metadata": {},
   "source": [
    "Positive Correlation: Variables like LOC (Level of Consciousness at ICU Admission), TYP (Type of Admission), CPR (CPR Prior to ICU Admission), and AGE (Age) show a positive correlation with STA. This means that as these variables increase, the likelihood of the STA being 1 (i.e., the patient died) also increases.\n",
    "Negative Correlation: Variables like SYS (Systolic Blood Pressure at ICU Admission) and SER (Service at ICU Admission) have a negative correlation with STA. This implies that as these variables increase, the likelihood of the STA being 0 (i.e., the patient lived) increases.\n",
    "Weak or No Correlation: Some variables like PCO, CAN, and FRA show values very close to zero, indicating they might not have a strong linear relationship with STA.\n",
    "Population of Interest: Based on the data and the response variable STA, the population of interest for this problem seems to be patients admitted to the ICU. The goal appears to be understanding the factors that influence the likelihood of survival or death in the ICU.\n",
    "\n",
    "Dropdown Conditions: As for dropdown conditions, it depends on the context of the problem. If the analysis is meant for an interactive tool or dashboard where users can filter data based on certain criteria, then dropdown conditions can be useful. For instance, users might want to filter the data based on AGE, SEX, RACE, or SER to get insights specific to a certain group. However, in the context of our exploratory data analysis, we haven't applied any specific dropdown conditions."
   ]
  },
  {
   "cell_type": "markdown",
   "metadata": {},
   "source": [
    "# Task 2"
   ]
  },
  {
   "cell_type": "code",
   "execution_count": 9,
   "metadata": {},
   "outputs": [
    {
     "data": {
      "text/html": [
       "<div>\n",
       "<style scoped>\n",
       "    .dataframe tbody tr th:only-of-type {\n",
       "        vertical-align: middle;\n",
       "    }\n",
       "\n",
       "    .dataframe tbody tr th {\n",
       "        vertical-align: top;\n",
       "    }\n",
       "\n",
       "    .dataframe thead th {\n",
       "        text-align: right;\n",
       "    }\n",
       "</style>\n",
       "<table border=\"1\" class=\"dataframe\">\n",
       "  <thead>\n",
       "    <tr style=\"text-align: right;\">\n",
       "      <th></th>\n",
       "      <th>Lived</th>\n",
       "      <th>Died</th>\n",
       "      <th>Total</th>\n",
       "    </tr>\n",
       "  </thead>\n",
       "  <tbody>\n",
       "    <tr>\n",
       "      <th>Male</th>\n",
       "      <td>100</td>\n",
       "      <td>24</td>\n",
       "      <td>124</td>\n",
       "    </tr>\n",
       "    <tr>\n",
       "      <th>Female</th>\n",
       "      <td>60</td>\n",
       "      <td>16</td>\n",
       "      <td>76</td>\n",
       "    </tr>\n",
       "    <tr>\n",
       "      <th>Total</th>\n",
       "      <td>160</td>\n",
       "      <td>40</td>\n",
       "      <td>200</td>\n",
       "    </tr>\n",
       "  </tbody>\n",
       "</table>\n",
       "</div>"
      ],
      "text/plain": [
       "        Lived  Died  Total\n",
       "Male      100    24    124\n",
       "Female     60    16     76\n",
       "Total     160    40    200"
      ]
     },
     "execution_count": 9,
     "metadata": {},
     "output_type": "execute_result"
    }
   ],
   "source": [
    "# Creating a 2x2 contingency table relating SEX to STA\n",
    "contingency_table = pd.crosstab(icu_df['SEX'], icu_df['STA'], margins=True, margins_name=\"Total\")\n",
    "contingency_table.columns = ['Lived', 'Died', 'Total']\n",
    "contingency_table.index = ['Male', 'Female', 'Total']\n",
    "\n",
    "contingency_table"
   ]
  },
  {
   "cell_type": "markdown",
   "metadata": {},
   "source": [
    "Probability of Survival:\n",
    "P\n",
    "(\n",
    "Survival\n",
    ")\n",
    "=\n",
    "Number of individuals who lived\n",
    "Total number of individuals\n",
    "P(Survival)= \n",
    "Total number of individuals\n",
    "Number of individuals who lived\n",
    "​\t\n",
    " \n",
    "\n",
    "Odds of Survival:\n",
    "Odds\n",
    "(\n",
    "Survival\n",
    ")\n",
    "=\n",
    "Number of individuals who lived\n",
    "Number of individuals who died\n",
    "Odds(Survival)= \n",
    "Number of individuals who died\n",
    "Number of individuals who lived\n",
    "​\t\n",
    " "
   ]
  },
  {
   "cell_type": "code",
   "execution_count": 10,
   "metadata": {},
   "outputs": [
    {
     "data": {
      "text/plain": [
       "(0.8064516129032258, 0.7894736842105263, 4.166666666666667, 3.75)"
      ]
     },
     "execution_count": 10,
     "metadata": {},
     "output_type": "execute_result"
    }
   ],
   "source": [
    "# Calculating the probabilities of survival for males and females\n",
    "probability_male_survival = contingency_table.loc['Male', 'Lived'] / contingency_table.loc['Male', 'Total']\n",
    "probability_female_survival = contingency_table.loc['Female', 'Lived'] / contingency_table.loc['Female', 'Total']\n",
    "\n",
    "# Calculating the odds of survival for males and females\n",
    "odds_male_survival = contingency_table.loc['Male', 'Lived'] / contingency_table.loc['Male', 'Died']\n",
    "odds_female_survival = contingency_table.loc['Female', 'Lived'] / contingency_table.loc['Female', 'Died']\n",
    "\n",
    "probability_male_survival, probability_female_survival, odds_male_survival, odds_female_survival\n"
   ]
  },
  {
   "cell_type": "markdown",
   "metadata": {},
   "source": [
    "Probabilities and Odds of Survival:\n",
    "\n",
    "Males:\n",
    "Probability of Survival: \n",
    "0.8065\n",
    "0.8065 or \n",
    "80.65\n",
    "%\n",
    "80.65%\n",
    "Odds of Survival: \n",
    "4.167\n",
    "4.167\n",
    "Females:\n",
    "Probability of Survival: \n",
    "0.7895\n",
    "0.7895 or \n",
    "78.95\n",
    "%\n",
    "78.95%\n",
    "Odds of Survival: \n",
    "3.75\n",
    "3.75\n",
    "Next, let's compute the odds ratio of survival that compares males to females. The odds ratio is calculated as:\n",
    "\n",
    "Odds Ratio (OR)\n",
    "=\n",
    "Odds of Survival for Males\n",
    "Odds of Survival for Females\n",
    "Odds Ratio (OR)= \n",
    "Odds of Survival for Females\n",
    "Odds of Survival for Males\n",
    "​\t\n",
    " "
   ]
  },
  {
   "cell_type": "code",
   "execution_count": 11,
   "metadata": {},
   "outputs": [
    {
     "data": {
      "text/plain": [
       "1.1111111111111112"
      ]
     },
     "execution_count": 11,
     "metadata": {},
     "output_type": "execute_result"
    }
   ],
   "source": [
    "# Calculating the odds ratio of survival comparing males to females\n",
    "odds_ratio = odds_male_survival / odds_female_survival\n",
    "\n",
    "odds_ratio\n"
   ]
  },
  {
   "cell_type": "markdown",
   "metadata": {},
   "source": [
    "Interpretation:\n",
    "The odds ratio indicates how the odds of an event in one group compare to the odds of the same event in another group. An odds ratio of 1 suggests that the event is equally likely in both groups. An odds ratio greater than 1 indicates that the event is more likely in the first group, while an odds ratio less than 1 indicates that the event is less likely in the first group compared to the second."
   ]
  },
  {
   "cell_type": "markdown",
   "metadata": {},
   "source": [
    "Conclusion:\n",
    "Given our calculated odds ratio of \n",
    "1.1111\n",
    "1.1111, this suggests that males have slightly higher odds of survival compared to females. However, it's important to note that this difference is not substantial. The probabilities of survival for both genders are quite close, with males having an \n",
    "80.65\n",
    "%\n",
    "80.65% chance and females having a \n",
    "78.95\n",
    "%\n",
    "78.95% chance. The odds ratio reflects this minor difference.\n",
    "\n",
    "While there is a minor difference in the odds of survival between males and females, it's essential to consider the context and the dataset's limitations. The difference might not be clinically significant, and further investigation with a larger dataset and potential confounding variables might be necessary to draw a more definitive conclusion.\n",
    "\n",
    "Do note that while the odds ratio provides insight into the relative odds between two groups, it doesn't directly convey information about the absolute probabilities of the event of interest. In this scenario, both males and females have relatively high survival probabilities, which is an important context when interpreting the odds ratio."
   ]
  },
  {
   "cell_type": "markdown",
   "metadata": {},
   "source": [
    "# Task 3"
   ]
  },
  {
   "cell_type": "code",
   "execution_count": 12,
   "metadata": {},
   "outputs": [
    {
     "data": {
      "text/html": [
       "<div>\n",
       "<style scoped>\n",
       "    .dataframe tbody tr th:only-of-type {\n",
       "        vertical-align: middle;\n",
       "    }\n",
       "\n",
       "    .dataframe tbody tr th {\n",
       "        vertical-align: top;\n",
       "    }\n",
       "\n",
       "    .dataframe thead th {\n",
       "        text-align: right;\n",
       "    }\n",
       "</style>\n",
       "<table border=\"1\" class=\"dataframe\">\n",
       "  <thead>\n",
       "    <tr style=\"text-align: right;\">\n",
       "      <th></th>\n",
       "      <th>Lived</th>\n",
       "      <th>Died</th>\n",
       "      <th>Total</th>\n",
       "    </tr>\n",
       "  </thead>\n",
       "  <tbody>\n",
       "    <tr>\n",
       "      <th>Elective</th>\n",
       "      <td>51</td>\n",
       "      <td>2</td>\n",
       "      <td>53</td>\n",
       "    </tr>\n",
       "    <tr>\n",
       "      <th>Emergency</th>\n",
       "      <td>109</td>\n",
       "      <td>38</td>\n",
       "      <td>147</td>\n",
       "    </tr>\n",
       "    <tr>\n",
       "      <th>Total</th>\n",
       "      <td>160</td>\n",
       "      <td>40</td>\n",
       "      <td>200</td>\n",
       "    </tr>\n",
       "  </tbody>\n",
       "</table>\n",
       "</div>"
      ],
      "text/plain": [
       "           Lived  Died  Total\n",
       "Elective      51     2     53\n",
       "Emergency    109    38    147\n",
       "Total        160    40    200"
      ]
     },
     "execution_count": 12,
     "metadata": {},
     "output_type": "execute_result"
    }
   ],
   "source": [
    "# Creating a 2x2 contingency table relating TYP to STA\n",
    "contingency_table_typ = pd.crosstab(icu_df['TYP'], icu_df['STA'], margins=True, margins_name=\"Total\")\n",
    "contingency_table_typ.columns = ['Lived', 'Died', 'Total']\n",
    "contingency_table_typ.index = ['Elective', 'Emergency', 'Total']\n",
    "\n",
    "contingency_table_typ"
   ]
  },
  {
   "cell_type": "markdown",
   "metadata": {},
   "source": [
    "Probability of Survival:\n",
    "P\n",
    "(\n",
    "Survival\n",
    ")\n",
    "=\n",
    "Number of individuals who lived\n",
    "Total number of individuals\n",
    "P(Survival)= \n",
    "Total number of individuals\n",
    "Number of individuals who lived\n",
    "​\t\n",
    " \n",
    "\n",
    "Odds of Survival:\n",
    "Odds\n",
    "(\n",
    "Survival\n",
    ")\n",
    "=\n",
    "Number of individuals who lived\n",
    "Number of individuals who died\n",
    "Odds(Survival)= \n",
    "Number of individuals who died\n",
    "Number of individuals who lived\n",
    "​\t\n",
    " \n",
    "\n",
    "Let's calculate these for both types of admissions."
   ]
  },
  {
   "cell_type": "code",
   "execution_count": 13,
   "metadata": {},
   "outputs": [
    {
     "data": {
      "text/plain": [
       "(0.9622641509433962, 0.7414965986394558, 25.5, 2.8684210526315788)"
      ]
     },
     "execution_count": 13,
     "metadata": {},
     "output_type": "execute_result"
    }
   ],
   "source": [
    "# Calculating the probabilities of survival for elective and emergency admissions\n",
    "probability_elective_survival = contingency_table_typ.loc['Elective', 'Lived'] / contingency_table_typ.loc['Elective', 'Total']\n",
    "probability_emergency_survival = contingency_table_typ.loc['Emergency', 'Lived'] / contingency_table_typ.loc['Emergency', 'Total']\n",
    "\n",
    "# Calculating the odds of survival for elective and emergency admissions\n",
    "odds_elective_survival = contingency_table_typ.loc['Elective', 'Lived'] / contingency_table_typ.loc['Elective', 'Died']\n",
    "odds_emergency_survival = contingency_table_typ.loc['Emergency', 'Lived'] / contingency_table_typ.loc['Emergency', 'Died']\n",
    "\n",
    "probability_elective_survival, probability_emergency_survival, odds_elective_survival, odds_emergency_survival\n"
   ]
  },
  {
   "cell_type": "markdown",
   "metadata": {},
   "source": [
    "Probabilities and Odds of Survival:\n",
    "\n",
    "Elective Admission:\n",
    "Probability of Survival: \n",
    "0.9623\n",
    "0.9623 or \n",
    "96.23\n",
    "%\n",
    "96.23%\n",
    "Odds of Survival: \n",
    "25.5\n",
    "25.5\n",
    "Emergency Admission:\n",
    "Probability of Survival: \n",
    "0.7415\n",
    "0.7415 or \n",
    "74.15\n",
    "%\n",
    "74.15%\n",
    "Odds of Survival: \n",
    "2.8684\n",
    "2.8684\n",
    "Next, let's compute the odds ratio of survival that compares elective to emergency admissions. The odds ratio is calculated as:\n",
    "\n",
    "Odds Ratio (OR)\n",
    "=\n",
    "Odds of Survival for Elective\n",
    "Odds of Survival for Emergency\n",
    "Odds Ratio (OR)= \n",
    "Odds of Survival for Emergency\n",
    "Odds of Survival for Elective\n",
    "​\t\n",
    " "
   ]
  },
  {
   "cell_type": "code",
   "execution_count": 14,
   "metadata": {},
   "outputs": [
    {
     "data": {
      "text/plain": [
       "8.889908256880734"
      ]
     },
     "execution_count": 14,
     "metadata": {},
     "output_type": "execute_result"
    }
   ],
   "source": [
    "# Calculating the odds ratio of survival comparing elective to emergency admissions\n",
    "odds_ratio_typ = odds_elective_survival / odds_emergency_survival\n",
    "\n",
    "odds_ratio_typ\n"
   ]
  },
  {
   "cell_type": "markdown",
   "metadata": {},
   "source": [
    "The odds ratio (OR) comparing the survival of elective admissions to emergency admissions is \n",
    "OR\n",
    "=\n",
    "8.8899\n",
    "OR=8.8899.\n",
    "\n",
    "Interpretation:\n",
    "An odds ratio of 1 would mean that both types of admissions have the same odds of survival.\n",
    "An odds ratio greater than 1 indicates that the first type (in this case, elective admissions) has higher odds of survival compared to the second type (emergency admissions).\n",
    "An odds ratio less than 1 would mean that the second type (emergency admissions) has higher odds of survival compared to the first type (elective admissions).\n",
    "Given our calculated odds ratio of \n",
    "8.8899\n",
    "8.8899, this suggests that patients admitted electively have considerably higher odds of survival compared to those admitted due to emergencies.\n",
    "\n",
    "Conclusion:\n",
    "Patients with elective admissions have significantly higher odds of survival compared to those with emergency admissions, as reflected by the high odds ratio. This finding makes intuitive sense since elective admissions often involve planned medical procedures or treatments, where the patient's condition and risks are assessed beforehand. In contrast, emergency admissions are typically more unpredictable and can involve critical or life-threatening situations.\n",
    "\n",
    "This insight is crucial for healthcare professionals and administrators to allocate resources appropriately, understand risks, and inform patients and their families about potential outcomes.\n",
    "\n",
    "However, it's essential to consider other confounding factors and variables that might influence this relationship. Further analysis and potentially more extensive datasets would provide a more comprehensive understanding of this relationship."
   ]
  },
  {
   "cell_type": "markdown",
   "metadata": {},
   "source": [
    "# Task 4"
   ]
  },
  {
   "cell_type": "markdown",
   "metadata": {},
   "source": [
    "## a) Logistic Regression Model and Logit Transformation"
   ]
  },
  {
   "cell_type": "markdown",
   "metadata": {},
   "source": [
    "\n",
    "Let's tackle this step by step:\n",
    "\n",
    "a) Logistic Regression Model and Logit Transformation\n",
    "In logistic regression, we model the probability \n",
    "P\n",
    "(\n",
    "Y\n",
    "=\n",
    "1\n",
    ")\n",
    "P(Y=1) (in this case, \n",
    "S\n",
    "T\n",
    "A\n",
    "=\n",
    "1\n",
    "STA=1) as a function of the predictors. For a single predictor \n",
    "X\n",
    "X (in this case, \n",
    "A\n",
    "G\n",
    "E\n",
    "AGE), the model is:\n",
    "\n",
    "P\n",
    "(\n",
    "Y\n",
    "=\n",
    "1\n",
    ")\n",
    "=\n",
    "1\n",
    "1\n",
    "+\n",
    "e\n",
    "−\n",
    "(\n",
    "β\n",
    "0\n",
    "+\n",
    "β\n",
    "1\n",
    "X\n",
    ")\n",
    "P(Y=1)= \n",
    "1+e \n",
    "−(β \n",
    "0\n",
    "​\t\n",
    " +β \n",
    "1\n",
    "​\t\n",
    " X)\n",
    " \n",
    "1\n",
    "​\t\n",
    " \n",
    "Where:\n",
    "\n",
    "P\n",
    "(\n",
    "Y\n",
    "=\n",
    "1\n",
    ")\n",
    "P(Y=1) is the probability that \n",
    "S\n",
    "T\n",
    "A\n",
    "=\n",
    "1\n",
    "STA=1.\n",
    "β\n",
    "0\n",
    "β \n",
    "0\n",
    "​\t\n",
    "  and \n",
    "β\n",
    "1\n",
    "β \n",
    "1\n",
    "​\t\n",
    "  are the coefficients to be estimated from the data.\n",
    "e\n",
    "e is the base of the natural logarithm (approximately equal to 2.71828).\n",
    "For the logit transformation, we take the natural logarithm of the odds of the event:\n",
    "\n",
    "log\n",
    "⁡\n",
    "(\n",
    "P\n",
    "(\n",
    "Y\n",
    "=\n",
    "1\n",
    ")\n",
    "1\n",
    "−\n",
    "P\n",
    "(\n",
    "Y\n",
    "=\n",
    "1\n",
    ")\n",
    ")\n",
    "=\n",
    "β\n",
    "0\n",
    "+\n",
    "β\n",
    "1\n",
    "X\n",
    "log( \n",
    "1−P(Y=1)\n",
    "P(Y=1)\n",
    "​\t\n",
    " )=β \n",
    "0\n",
    "​\t\n",
    " +β \n",
    "1\n",
    "​\t\n",
    " X\n",
    "Where:\n",
    "\n",
    "The left side is the log odds (or logit).\n",
    "The right side is a linear combination of the predictors."
   ]
  },
  {
   "cell_type": "markdown",
   "metadata": {},
   "source": [
    "## b) Scatterplot of STA by AGE"
   ]
  },
  {
   "cell_type": "code",
   "execution_count": 16,
   "metadata": {},
   "outputs": [
    {
     "data": {
      "image/png": "[encoded data removed]",
      "text/plain": [
       "<Figure size 1400x600 with 1 Axes>"
      ]
     },
     "metadata": {},
     "output_type": "display_data"
    }
   ],
   "source": [
    "plt.figure(figsize=(14, 6))\n",
    "\n",
    "# Plotting a scatterplot of STA by AGE\n",
    "sns.scatterplot(x=icu_df['AGE'], y=icu_df['STA'], alpha=0.6)\n",
    "plt.title('Scatterplot of STA by AGE')\n",
    "plt.xlabel('AGE')\n",
    "plt.ylabel('STA (0 = Lived, 1 = Died)')\n",
    "plt.yticks([0, 1])\n",
    "\n",
    "# Displaying the plot\n",
    "plt.show()"
   ]
  },
  {
   "cell_type": "markdown",
   "metadata": {},
   "source": [
    "From the scatterplot of STA by AGE, we can make the following observations:\n",
    "\n",
    "The plot displays two distinct levels of STA: \n",
    "0\n",
    "0 (Lived) and \n",
    "1\n",
    "1 (Died).\n",
    "There's a noticeable concentration of deaths (STA = 1) among older individuals, while younger individuals predominantly belong to the STA = 0 category.\n",
    "As age increases, the density of points indicating death seems to increase, suggesting a potential relationship between age and the likelihood of death.\n",
    "Conclusion:\n",
    "Age appears to be a discriminator between the levels of STA to some extent. Older age seems to be associated with a higher likelihood of death (STA = 1). However, it's essential to note that while age can provide some discrimination, there are still many older individuals who survived and younger individuals who did not. This suggests that while age might be a significant factor, it's not the sole determinant, and other factors could play a role in influencing survival outcomes. A logistic regression analysis, as suggested in part (a), could help quantify the relationship between age and STA and provide more insights."
   ]
  },
  {
   "cell_type": "markdown",
   "metadata": {},
   "source": [
    "# Task 5"
   ]
  },
  {
   "cell_type": "markdown",
   "metadata": {},
   "source": []
  }
 ],
 "metadata": {
  "kernelspec": {
   "display_name": "Python 3",
   "language": "python",
   "name": "python3"
  },
  "language_info": {
   "codemirror_mode": {
    "name": "ipython",
    "version": 3
   },
   "file_extension": ".py",
   "mimetype": "text/x-python",
   "name": "python",
   "nbconvert_exporter": "python",
   "pygments_lexer": "ipython3",
   "version": "3.10.5"
  },
  "orig_nbformat": 4
 },
 "nbformat": 4,
 "nbformat_minor": 2
}
