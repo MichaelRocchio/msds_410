{
 "cells": [
  {
   "attachments": {},
   "cell_type": "markdown",
   "metadata": {},
   "source": [
    "# Part 1"
   ]
  },
  {
   "cell_type": "code",
   "execution_count": 2,
   "metadata": {},
   "outputs": [
    {
     "data": {
      "text/plain": [
       "2930"
      ]
     },
     "execution_count": 2,
     "metadata": {},
     "output_type": "execute_result"
    }
   ],
   "source": [
    "import pandas as pd\n",
    "import numpy as np\n",
    "\n",
    "df=pd.read_excel('ames_housing_data.xlsx')\n",
    "len(df)"
   ]
  },
  {
   "attachments": {},
   "cell_type": "markdown",
   "metadata": {},
   "source": [
    "## Model 1 Question 1\n",
    "There are 2930 observations in the sample data."
   ]
  },
  {
   "attachments": {},
   "cell_type": "markdown",
   "metadata": {},
   "source": [
    "## Model 1 Question 2\n",
    "\n",
    "Null Hypothesis (H0): The coefficient Beta1 equals zero, meaning X1 has no effect on the dependent variable. Mathematically, this can be written as H0: Beta1 = 0.\n",
    "\n",
    "Alternative Hypothesis (Ha): The coefficient Beta1 does not equal zero, meaning X1 does have an effect on the dependent variable. Mathematically, this can be written as Ha: Beta1 ≠ 0.\n",
    "\n",
    "In this case, since the p-value associated with the t-value for Beta1 is less than 0.0001, we can reject the null hypothesis and accept the alternate hypothesis. This means we have sufficient evidence to conclude that the predictor variable X1 does have a statistically significant effect on the dependent variable."
   ]
  },
  {
   "attachments": {},
   "cell_type": "markdown",
   "metadata": {},
   "source": [
    "## Model 1 Question 3\n",
    "\n",
    "$$ t = (Estimate - Null Hypothesis) / Std. Error $$\n",
    "\n",
    "The estimate for Beta1 is given as 2.186, the standard error is 0.4104, and the null hypothesis is that Beta1 equals 0.\n",
    "\n",
    "Inputting these values into the equation yields:\n",
    "\n",
    "$$ t = (2.186 - 0) / 0.4104 ≈ 5.33 $$\n",
    "\n",
    "The t-value you have calculated matches closely with the one in the given model summary, which might have some rounding errors. The t-value tests the null hypothesis that the coefficient is equal to zero (no effect) against the alternative hypothesis that the coefficient is not equal to zero (there is an effect).\n",
    "\n",
    "A rule of thumb is that if the absolute t-value is greater than 2, it's typically considered statistically significant at the p < 0.05 level. Here, the t-value is approximately 5.33, which is significantly greater than 2.\n",
    "\n",
    "In this case, we also have the p-value directly given as <0.0001 which is much less than the usual alpha level of 0.05.\n",
    "\n",
    "Therefore, you would reject the null hypothesis and conclude that the variable X1 has a statistically significant effect on the response variable. This means that changes in X1 are associated with changes in the dependent variable."
   ]
  },
  {
   "attachments": {},
   "cell_type": "markdown",
   "metadata": {},
   "source": [
    "## Model 1 Question 4\n",
    "\n",
    "R-squared can be computed using the ANOVA table by dividing the sum of squares of the regression (Model sum of squares) by the total sum of squares:\n",
    "\n",
    "$$ R^2=\\frac{SSR}{SST}$$\n",
    "\n",
    "From the provided ANOVA table:\n",
    "\n",
    "$$ Let\\ SSR = 2126$$ \n",
    "$$ Let\\ SST = 2756.37 $$\n",
    "$$ \\frac{2126}{2756.37} ≈ 0.7713 $$\n",
    "\n",
    "This matches the provided R-squared value, suggesting that approximately 77.13% of the variance in the dependent variable can be explained by the model.\n",
    "\n",
    "This means that 77.13% of the variability in the outcome variable can be accounted for by the variables X1, X2, X3, and X4 in your model. This is a relatively high value, indicating that your model provides a good fit to your data. But remember, while a high R-squared is a good indicator, it's not the only thing to consider when assessing the goodness of fit of a model. You should also consider other diagnostic measures and the subject-matter importance of the variables in the model."
   ]
  },
  {
   "cell_type": "code",
   "execution_count": 7,
   "metadata": {},
   "outputs": [
    {
     "name": "stdout",
     "output_type": "stream",
     "text": [
      "0.77\n"
     ]
    }
   ],
   "source": [
    "## Rounding to match values of provided output.\n",
    "print(round(2126/2756.37, 2))"
   ]
  },
  {
   "attachments": {},
   "cell_type": "markdown",
   "metadata": {},
   "source": [
    "## Model 1 Question 5\n",
    "\n",
    "The Adjusted R-squared can be calculated using the following formula:\n",
    "\n",
    "$$Let\\ n = total\\ number\\ of\\ observations$$\n",
    "$$Let\\ k = number\\ of\\ predictors$$\n",
    "\n",
    "$$ Adj.\\ R^2 = 1 - \\frac{(1 - R^2) (n - 1)}{(n - k - 1)}$$\n",
    "\n",
    "\n",
    "From the provided table:\n",
    "$$n = 72\\ (dof + 1)$$\n",
    "$$k = 4$$\n",
    "$$R^2 = 0.7713$$\n",
    "\n",
    "$$Adj.\\ R^2 = 1 - \\frac{(1 - 0.7713) (72 - 1)}{(72 - 4 - 1)} ≈ 0.7577$$\n",
    "\n",
    "This matches the given Adjusted R-squared value, confirming the calculation.\n",
    "\n",
    "R-squared and Adjusted R-squared values are different because Adjusted R-squared accounts for the number of predictors in the model. If you add more and more useless variables to a model, R-squared will tend to increase. However, Adjusted R-squared will penalize you for adding ineffective predictors, leading to a decrease if the additional variables do not contribute enough to the improvement of the model. Adjusted R-squared is generally preferred over R-squared when comparing models with different numbers of predictors as it accounts for model complexity."
   ]
  },
  {
   "cell_type": "code",
   "execution_count": 9,
   "metadata": {},
   "outputs": [
    {
     "name": "stdout",
     "output_type": "stream",
     "text": [
      "0.7576\n"
     ]
    }
   ],
   "source": [
    "## Rounding to match values of provided output.\n",
    "print(round(1-((1-.7713)*(72-1)/(72-4-1)),4))"
   ]
  },
  {
   "cell_type": "code",
   "execution_count": null,
   "metadata": {},
   "outputs": [],
   "source": []
  }
 ],
 "metadata": {
  "kernelspec": {
   "display_name": "Python 3",
   "language": "python",
   "name": "python3"
  },
  "language_info": {
   "codemirror_mode": {
    "name": "ipython",
    "version": 3
   },
   "file_extension": ".py",
   "mimetype": "text/x-python",
   "name": "python",
   "nbconvert_exporter": "python",
   "pygments_lexer": "ipython3",
   "version": "3.10.5"
  },
  "orig_nbformat": 4
 },
 "nbformat": 4,
 "nbformat_minor": 2
}
